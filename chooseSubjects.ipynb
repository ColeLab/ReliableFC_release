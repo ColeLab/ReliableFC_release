{
 "cells": [
  {
   "cell_type": "code",
   "execution_count": 10,
   "id": "d25f6bdc-ed7e-46b7-8a5a-7c4b8b168117",
   "metadata": {},
   "outputs": [
    {
     "name": "stdout",
     "output_type": "stream",
     "text": [
      "482\n",
      "                     age sex dataset\n",
      "src_subject_id                      \n",
      "HCA6002236       46.5000   F        \n",
      "HCA6018857       36.3333   F        \n",
      "HCA6030645       45.3333   F        \n",
      "HCA6047359       53.3333   M        \n",
      "HCA6051047       60.4167   F        \n",
      "...                  ...  ..     ...\n",
      "HCA9938309      100.0000   F        \n",
      "HCA9938814       46.9167   F        \n",
      "HCA9947411       38.2500   M        \n",
      "HCA9956008       41.0000   F        \n",
      "HCA9992517       54.0000   F        \n",
      "\n",
      "[482 rows x 3 columns]\n"
     ]
    }
   ],
   "source": [
    "import pandas as pd\n",
    "import matplotlib.pyplot as plt\n",
    "import os\n",
    "import numpy as np\n",
    "\n",
    "scriptsDir = '/projects/f_mc1689_1/ReliableFC/docs/scripts'\n",
    "completenessFile = f'/projects/f_mc1689_1/AgingHubs/docs/scripts/HCA_LS_2.0_subject_completeness.csv'\n",
    "subjectsFile = f'{scriptsDir}/subjects.tsv'\n",
    "\n",
    "excludeSubjs = []\n",
    "\n",
    "completenessDF = pd.read_csv(completenessFile,sep=',',header=0,index_col=0)\n",
    "#completenessDF = completenessDF[completenessDF['Full_MR_Compl'] == '0']\n",
    "completenessDF = completenessDF[completenessDF['T1_Count'] == '1']\n",
    "completenessDF = completenessDF[completenessDF['T2_Count'] == '1']\n",
    "completenessDF = completenessDF[completenessDF['RS-fMRI_PctCompl'] == '100']\n",
    "completenessDF = completenessDF[completenessDF['dMRI_Compl'] == '1']\n",
    "completenessDF = completenessDF[completenessDF['tMRI_CARIT_PctCompl'] == '100']\n",
    "#completenessDF = completenessDF[completenessDF['tMRI_FACENAME_PctCompl'] == '100']\n",
    "#completenessDF = completenessDF[completenessDF['tMRI_VISMOTOR_PctCompl'] == '100']\n",
    "completenessDF = completenessDF[pd.isnull(completenessDF['QC_Issue_Codes'])]\n",
    "completenessDF = completenessDF.drop(index=excludeSubjs)\n",
    "\n",
    "measuresDF = pd.read_csv(f'{scriptsDir}/indivDiffMeasures.tsv',sep='\\t',index_col='measures')\n",
    "for measure in measuresDF['filename']:\n",
    "    meas = measure.split('.txt')[0]\n",
    "    completenessDF = completenessDF[completenessDF[meas] == '1']\n",
    "\n",
    "ageMonths = completenessDF['interview_age'].values\n",
    "ageYears = np.around([int(i)/12 for i in ageMonths],4)\n",
    "completenessDF['ageYears'] = ageYears\n",
    "\n",
    "subjectsDF = pd.DataFrame({'age': completenessDF['ageYears'], 'sex': completenessDF['sex'], 'dataset': np.full((len(completenessDF)),'')})\n",
    "print(len(subjectsDF.index))\n",
    "print(subjectsDF)\n"
   ]
  },
  {
   "cell_type": "code",
   "execution_count": 11,
   "id": "55d753cb-81d0-497b-96a2-6796b32303a7",
   "metadata": {},
   "outputs": [
    {
     "name": "stdout",
     "output_type": "stream",
     "text": [
      "(472, 3)\n"
     ]
    }
   ],
   "source": [
    "indivDiffs = {}\n",
    "subjList = subjectsDF.index\n",
    "\n",
    "for measure in measuresDF.index:\n",
    "    indivDiffs[measure] = np.zeros((len(subjList)))\n",
    "    file = f'/projects/f_mc1689_1/ReliableFC/data/downloads/{measuresDF.loc[measure,\"filename\"]}'\n",
    "    col = measuresDF.loc[measure,\"colname\"]\n",
    "    tmpDF = pd.read_csv(file,sep='\\t')\n",
    "    for s,subj in enumerate(subjList):\n",
    "        tmp = tmpDF.loc[tmpDF[\"src_subject_id\"]==subj,col].values\n",
    "        if len(tmp)==0:\n",
    "            tmp = np.nan\n",
    "        elif len(tmp) > 1:\n",
    "            tmp = tmp.astype(float)\n",
    "            tmp = tmp[~np.isnan(tmp)]\n",
    "            tmp = tmp[tmp!=999]\n",
    "            if len(tmp)==0:\n",
    "                tmp = np.nan\n",
    "        else:\n",
    "            tmp = float(tmp)\n",
    "        indivDiffs[measure][s] = tmp\n",
    "\n",
    "indivDiffsDF = pd.DataFrame(data=indivDiffs,index=subjList)\n",
    "subjsWithBeh = np.full((len(indivDiffsDF.index)),True)\n",
    "for measure in indivDiffsDF.columns:\n",
    "    subjsWithBeh = subjsWithBeh & indivDiffsDF[measure].notna().values\n",
    "    \n",
    "subjectsDF = subjectsDF[subjsWithBeh]\n",
    "print(subjectsDF.shape)\n",
    "subjectsDF.to_csv(path_or_buf=subjectsFile, sep='\\t', index_label='subjects')\n"
   ]
  },
  {
   "cell_type": "code",
   "execution_count": 13,
   "id": "95405ba1-f70d-45ee-ada2-baec30c5ef1e",
   "metadata": {},
   "outputs": [
    {
     "name": "stdout",
     "output_type": "stream",
     "text": [
      "                    age sex    dataset\n",
      "src_subject_id                        \n",
      "HCA6002236      46.5000   F  discovery\n",
      "HCA6030645      45.3333   F  discovery\n",
      "HCA6051047      60.4167   F  discovery\n",
      "HCA6054457      62.5000   M  discovery\n",
      "HCA6075263      63.9167   M  discovery\n",
      "...                 ...  ..        ...\n",
      "HCA9912391      49.6667   M  discovery\n",
      "HCA9913090      79.2500   M  discovery\n",
      "HCA9926201      76.2500   M  discovery\n",
      "HCA9938814      46.9167   F  discovery\n",
      "HCA9956008      41.0000   F  discovery\n",
      "\n",
      "[236 rows x 3 columns]\n",
      "\n",
      "Discovery:\n",
      "141 female subjects\n",
      "Mean age = 56.89 (SD = 13.95)\n",
      "\n",
      "Replication:\n",
      "134 female subjects\n",
      "Mean age = 58.23 (SD = 14.35)\n"
     ]
    }
   ],
   "source": [
    "subjectsDF.loc[(np.arange(len(subjectsDF))%2)==0,'dataset'] = 'discovery'\n",
    "subjectsDF.loc[(np.arange(len(subjectsDF))%2)==1,'dataset'] = 'replication'\n",
    "\n",
    "discDF = subjectsDF.loc[subjectsDF['dataset']=='discovery']\n",
    "repDF = subjectsDF.loc[subjectsDF['dataset']=='replication']\n",
    "\n",
    "subjectsFileDisc = f'{scriptsDir}/subjects_discovery.tsv'\n",
    "subjectsFileRep = f'{scriptsDir}/subjects_replication.tsv'\n",
    "\n",
    "discDF.to_csv(path_or_buf=subjectsFileDisc, sep='\\t', index_label='subjects')\n",
    "repDF.to_csv(path_or_buf=subjectsFileRep, sep='\\t', index_label='subjects')\n",
    "\n",
    "print(discDF)\n",
    "print()\n",
    "print('Discovery:')\n",
    "print(f\"{np.sum(discDF['sex'] == 'F')} female subjects\")\n",
    "print(f\"Mean age = {np.mean(discDF['age']):.2f} (SD = {np.std(discDF['age']):.2f})\")\n",
    "print()\n",
    "print('Replication:')\n",
    "print(f\"{np.sum(repDF['sex'] == 'F')} female subjects\")\n",
    "print(f\"Mean age = {np.mean(repDF['age']):.2f} (SD = {np.std(repDF['age']):.2f})\")\n"
   ]
  },
  {
   "cell_type": "code",
   "execution_count": null,
   "id": "302b8ff0-85a0-42b8-ad96-57a0f5759fe1",
   "metadata": {},
   "outputs": [],
   "source": []
  }
 ],
 "metadata": {
  "kernelspec": {
   "display_name": "Python 3 (ipykernel)",
   "language": "python",
   "name": "python3"
  },
  "language_info": {
   "codemirror_mode": {
    "name": "ipython",
    "version": 3
   },
   "file_extension": ".py",
   "mimetype": "text/x-python",
   "name": "python",
   "nbconvert_exporter": "python",
   "pygments_lexer": "ipython3",
   "version": "3.9.7"
  }
 },
 "nbformat": 4,
 "nbformat_minor": 5
}
